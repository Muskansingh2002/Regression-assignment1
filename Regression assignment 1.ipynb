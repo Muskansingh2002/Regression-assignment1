{
 "cells": [
  {
   "cell_type": "markdown",
   "id": "cdbc60b7-ba0e-4864-9a66-e89d34fd83ae",
   "metadata": {},
   "source": [
    "## Q1. Explain the difference between simple linear regression and multiple linear regression. Provide an example of each."
   ]
  },
  {
   "cell_type": "markdown",
   "id": "3d68c325-3831-40a2-a6b7-fefb9e9fabd8",
   "metadata": {},
   "source": [
    "## Ans"
   ]
  },
  {
   "cell_type": "markdown",
   "id": "07a3fe1a-8f05-440c-9910-792010864a18",
   "metadata": {},
   "source": [
    "## Difference Between Simple Linear Regression and Multiple Linear Regression.\n",
    "   Number of Independent Variables:\n",
    "\n",
    "Simple Linear Regression involves only one independent variable (predictor) and one dependent variable (response).\n",
    "\n",
    "Multiple Linear Regression involves two or more independent variables predicting a single dependent variable.\n",
    "\n",
    "# Examples:\n",
    "Simple Linear Regression Example: Predicting a student’s score based on the number of hours studied.\n",
    "\n",
    "Independent Variable: Hours studied (x)\n",
    "\n",
    "Dependent Variable: Exam score (y)\n",
    "\n",
    "The model might look like:\n",
    "\n",
    " Score=50+5×Hours Studied\n",
    " \n",
    "This implies that for every additional hour studied, the score increases by 5 points.\n",
    "\n",
    "Multiple Linear Regression Example: Predicting a house price based on multiple factors like the square footage, number of bedrooms, and age of the house.\n",
    "\n",
    "Independent Variables: Square footage (𝑥1), number of bedrooms (𝑥2) and age of the house (𝑥3)\n",
    "\n",
    "Dependent Variable: House price (y)\n",
    "\n",
    "The model might look like:\n",
    "\n",
    "House Price=30,000+100×Square Footage+10,000×Number of Bedrooms−500×House Age\n",
    "\n",
    "Here, the price is influenced by multiple factors simultaneously."
   ]
  },
  {
   "cell_type": "code",
   "execution_count": null,
   "id": "b29fc193-84f8-44da-bd13-eaf1fc018c0f",
   "metadata": {},
   "outputs": [],
   "source": []
  },
  {
   "cell_type": "markdown",
   "id": "1b29b13b-43de-4aaf-a923-b62508260cdf",
   "metadata": {},
   "source": [
    "## Q2. Discuss the assumptions of linear regression. How can you check whether these assumptions hold in a given dataset?"
   ]
  },
  {
   "cell_type": "markdown",
   "id": "775316b1-bbe3-4582-8554-ac8dd6617866",
   "metadata": {},
   "source": [
    "## Ans"
   ]
  },
  {
   "cell_type": "markdown",
   "id": "6d166cb1-84e6-49ef-8da0-6c085f7a73b7",
   "metadata": {},
   "source": [
    "Assumptions of Linear Regression\n",
    "\n",
    "Linear regression relies on several key assumptions that must hold true for the model to be reliable. These assumptions are:\n",
    "\n",
    "Linearity:\n",
    "\n",
    "The relationship between the independent variables and the dependent variable should be linear. In other words, the change in the dependent variable is proportional to the change in the independent variables.\n",
    "\n",
    "How to Check:\n",
    "\n",
    "Plot the observed vs. predicted values (residual plot). If the plot shows a random scatter around the horizontal axis (with no clear pattern), the linearity assumption is likely satisfied.\n",
    "\n",
    "You can also create scatter plots of each independent variable against the dependent variable to visually inspect linear relationships.\n",
    "\n",
    "Independence:\n",
    "\n",
    "The observations should be independent of each other. In time-series data, this means that there should be no correlation between consecutive residuals (no autocorrelation).\n",
    "\n",
    "How to Check:\n",
    "\n",
    "Use the Durbin-Watson test to detect autocorrelation in residuals. A value close to 2 indicates no autocorrelation.\n",
    "\n",
    "For non-time-series data, ensuring that observations are randomly collected and not systematically related addresses independence."
   ]
  },
  {
   "cell_type": "code",
   "execution_count": null,
   "id": "c7b34bb5-1b4b-4f17-9dac-21fe904881ea",
   "metadata": {},
   "outputs": [],
   "source": []
  },
  {
   "cell_type": "markdown",
   "id": "499c8570-6c08-49d3-b804-d837d3334bf9",
   "metadata": {},
   "source": [
    "## Q3. How do you interpret the slope and intercept in a linear regression model? Provide an example using a real-world scenario."
   ]
  },
  {
   "cell_type": "markdown",
   "id": "2db1d5f1-3dad-4396-8070-38a9dc03bc7a",
   "metadata": {},
   "source": [
    "## Ans"
   ]
  },
  {
   "cell_type": "markdown",
   "id": "0edc81c4-84d5-4ef3-b68b-31dcd0100d22",
   "metadata": {},
   "source": [
    "Interpreting the Slope and Intercept in a Linear Regression Model\n",
    "\n",
    "In a simple linear regression model, the relationship between the dependent variable y and the independent variable x is expressed as:\n",
    "\n",
    "𝑦=𝑏0+𝑏1𝑥\n",
    "\n",
    "Where:\n",
    "    \n",
    "y is the dependent variable (what you’re predicting).\n",
    "\n",
    "x is the independent variable (the predictor).\n",
    "\n",
    "𝑏0 is the intercept.\n",
    "\n",
    "𝑏1 is the slope.\n",
    "\n",
    "1. Intercept (𝑏0):\n",
    "    \n",
    "The intercept represents the expected value of y when x=0. In other words, it’s the starting point or baseline level of y when there is no influence from the independent variable x.\n",
    "\n",
    "Example Interpretation: If you are predicting salary based on years of experience, the intercept might represent the starting salary for someone with 0 years of experience.\n",
    "\n",
    "2. Slope (𝑏1):\n",
    "\n",
    "The slope represents the change in y for each one-unit change in x. It shows how much the dependent variable is expected to increase (or decrease) as the independent variable increases by one unit.\n",
    "\n",
    "Example Interpretation: In the salary prediction model, the slope might represent the increase in salary for each additional year of experience.\n",
    "\n",
    "Real-World Example\n",
    "\n",
    "Scenario: Predicting the Fuel Efficiency (MPG) of a Car Based on its Weight\n",
    "\n",
    "Suppose you have a dataset where you are predicting a car’s fuel efficiency in miles per gallon (MPG) based on its weight in pounds. The linear regression model might look like this:\n",
    "\n",
    "MPG=40−0.005×Weight (pounds)\n",
    "\n",
    "Intercept (𝑏0=40): This means that if a car had zero weight (which is unrealistic, but this is what the model suggests), the fuel efficiency would be 40 MPG. While this doesn’t have much practical meaning, it serves as the starting value for the regression line.\n",
    "\n",
    "Slope (𝑏1=−0.005): The slope tells us that for each additional pound in weight, the fuel efficiency decreases by 0.005 MPG. In other words, heavier cars have lower fuel efficiency.\n",
    "\n",
    "Interpretation:\n",
    "\n",
    "If a car weighs 3,000 pounds, the predicted fuel efficiency would be:\n",
    "\n",
    "MPG=40−0.005×3000=40−15=25 MPG\n",
    "\n",
    "This means a 3,000-pound car is expected to get 25 miles per gallon."
   ]
  },
  {
   "cell_type": "code",
   "execution_count": null,
   "id": "57dc4cd7-648a-4ea2-a97e-1a22ed15b3ef",
   "metadata": {},
   "outputs": [],
   "source": []
  },
  {
   "cell_type": "markdown",
   "id": "3184a4e6-9945-4bc4-97e7-6f01653cf348",
   "metadata": {},
   "source": [
    "## Q4. Explain the concept of gradient descent. How is it used in machine learning?"
   ]
  },
  {
   "cell_type": "markdown",
   "id": "7c50f0cc-2da9-460d-b277-2f7bd5e346a6",
   "metadata": {},
   "source": [
    "# Ans"
   ]
  },
  {
   "cell_type": "markdown",
   "id": "59649346-7648-4260-97de-a887743928f5",
   "metadata": {},
   "source": [
    "Gradient Descent is an optimization algorithm used to minimize a function by iteratively moving towards the minimum value of the function. It’s particularly useful in machine learning for minimizing the cost (or loss) function, which measures how well a model's predictions match the actual data."
   ]
  },
  {
   "cell_type": "code",
   "execution_count": null,
   "id": "c638caa5-22d4-4679-912c-3974bb76cc02",
   "metadata": {},
   "outputs": [],
   "source": []
  },
  {
   "cell_type": "markdown",
   "id": "6408ba4f-6bbb-4362-b17a-1d1c9e1e44bb",
   "metadata": {},
   "source": [
    "## Q5. Describe the multiple linear regression model. How does it differ from simple linear regression?"
   ]
  },
  {
   "cell_type": "markdown",
   "id": "9229a096-ce91-430d-8c52-89c8f913245a",
   "metadata": {},
   "source": [
    "# Ans"
   ]
  },
  {
   "cell_type": "markdown",
   "id": "be706c6a-6f6f-41aa-9c78-11ca6ecba99c",
   "metadata": {},
   "source": [
    "Multiple Linear Regression Model\n",
    "\n",
    "Multiple Linear Regression is an extension of simple linear regression that models the relationship between one dependent variable and two or more independent variables. It aims to understand how multiple factors contribute to the outcome or predict the target variable.\n",
    "\n",
    "Difference Between Multiple and Simple Linear Regression\n",
    "\n",
    "Number of Independent Variables:\n",
    "\n",
    "Simple Linear Regression involves one independent variable and one dependent variable.\n",
    "\n",
    "Multiple Linear Regression involves two or more independent variables and one dependent variable."
   ]
  },
  {
   "cell_type": "code",
   "execution_count": null,
   "id": "adc7018b-8d58-42a0-9aa0-28ffde2b7679",
   "metadata": {},
   "outputs": [],
   "source": []
  },
  {
   "cell_type": "markdown",
   "id": "cc378b05-26ea-410f-aa56-94f2df9004ee",
   "metadata": {},
   "source": [
    "# Q7. Describe the polynomial regression model. How is it different from linear regression?"
   ]
  },
  {
   "cell_type": "markdown",
   "id": "172bb353-9c47-45f5-a135-2d0a43756fa1",
   "metadata": {},
   "source": [
    "# Ans\n",
    "\n",
    "Polynomial Regression Model\n",
    "\n",
    "Polynomial Regression is a type of regression analysis where the relationship between the independent variable x and the dependent variable y is modeled as an nth-degree polynomial. It is an extension of linear regression that allows for capturing non-linear relationships between the variables.\n",
    "\n",
    "Difference Between Polynomial Regression and Linear Regression\n",
    "\n",
    "Relationship Between Variables:\n",
    "\n",
    "Linear Regression: The relationship between the independent and dependent variables is assumed to be linear. The model fits a straight line to the data.\n",
    "\n",
    "Polynomial Regression: The relationship is modeled as a curve that can capture non-linear patterns. The model can fit a parabolic curve, cubic curve, or higher-degree polynomial."
   ]
  },
  {
   "cell_type": "code",
   "execution_count": null,
   "id": "a5340ca3-4a14-4a69-b5c7-f349b7991a06",
   "metadata": {},
   "outputs": [],
   "source": []
  },
  {
   "cell_type": "markdown",
   "id": "e947fa3f-c1ab-47d6-903b-7be580a90a00",
   "metadata": {},
   "source": [
    "## Q8. What are the advantages and disadvantages of polynomial regression compared to linear regression? In what situations would you prefer to use polynomial regression?"
   ]
  },
  {
   "cell_type": "markdown",
   "id": "626912b3-0bcf-4844-8719-0f4b4b7e2f5d",
   "metadata": {},
   "source": [
    "# Ans\n",
    "Advantages and Disadvantages of Polynomial Regression Compared to Linear Regression\n",
    "\n",
    "Advantages of Polynomial Regression:\n",
    "\n",
    "Captures Non-Linear Relationships:\n",
    "\n",
    "Unlike linear regression, polynomial regression can model complex, curved relationships between the independent and dependent variables. It is particularly useful when the data shows non-linear trends.\n",
    "\n",
    "Disadvantages of Polynomial Regression:\n",
    "\n",
    "Risk of Overfitting:\n",
    "\n",
    "As the degree of the polynomial increases, the model becomes more complex, leading to overfitting. Overfitting occurs when the model starts capturing noise or fluctuations in the data rather than the underlying trend, making it perform poorly on new data.\n",
    "\n",
    "Situations Where You Would Prefer Polynomial Regression\n",
    "\n",
    "Data Shows a Clear Non-Linear Pattern:\n",
    "\n",
    "If the relationship between the independent and dependent variables is clearly curved, polynomial regression is often more suitable. For example, in scenarios where growth, decay, or acceleration is non-linear (e.g., the trajectory of a projectile, the spread of a disease, etc.), polynomial regression is a better fit than a straight-line model.\n"
   ]
  },
  {
   "cell_type": "code",
   "execution_count": null,
   "id": "db71c006-cfcb-4403-89c4-27992e1657bb",
   "metadata": {},
   "outputs": [],
   "source": []
  }
 ],
 "metadata": {
  "kernelspec": {
   "display_name": "Python 3 (ipykernel)",
   "language": "python",
   "name": "python3"
  },
  "language_info": {
   "codemirror_mode": {
    "name": "ipython",
    "version": 3
   },
   "file_extension": ".py",
   "mimetype": "text/x-python",
   "name": "python",
   "nbconvert_exporter": "python",
   "pygments_lexer": "ipython3",
   "version": "3.10.8"
  }
 },
 "nbformat": 4,
 "nbformat_minor": 5
}
